{
  "metadata": {
    "kernelspec": {
      "name": "python",
      "display_name": "Python (Pyodide)",
      "language": "python"
    },
    "language_info": {
      "codemirror_mode": {
        "name": "python",
        "version": 3
      },
      "file_extension": ".py",
      "mimetype": "text/x-python",
      "name": "python",
      "nbconvert_exporter": "python",
      "pygments_lexer": "ipython3",
      "version": "3.8"
    }
  },
  "nbformat_minor": 4,
  "nbformat": 4,
  "cells": [
    {
      "cell_type": "markdown",
      "source": "## 1-notebook",
      "metadata": {}
    },
    {
      "cell_type": "markdown",
      "source": "##  2-title",
      "metadata": {}
    },
    {
      "cell_type": "markdown",
      "source": "## 3-Intro",
      "metadata": {}
    },
    {
      "cell_type": "markdown",
      "source": "### 4-dslanguage",
      "metadata": {}
    },
    {
      "cell_type": "markdown",
      "source": "##### 1. Python\n##### 2. R\n##### 3. SQL\n##### 4. Julia\n##### 5. Scala\n##### 6. Java\n##### 7. Hadoop\n",
      "metadata": {}
    },
    {
      "cell_type": "markdown",
      "source": "### 5-dslibrarie",
      "metadata": {}
    },
    {
      "cell_type": "markdown",
      "source": "##### 1. NumPy\n##### 2. Pandas\n##### 3. Scikit\n##### 4. TensorFlow\n##### 5. PyTorch\n##### 6. SciPy\n##### 7. Statsmodels\n\n",
      "metadata": {}
    },
    {
      "cell_type": "markdown",
      "source": "### 6-dstools",
      "metadata": {}
    },
    {
      "cell_type": "markdown",
      "source": "| Category            | Tool            |\n|---------------------|-----------------|\n| **Languages**       | Python          |\n|                     | R               |\n|                     | SQL             |\n|                     | Julia           |\n|                     | Scala           |\n| **Databases**       | MySQL           |\n|                     | PostgreSQL      |\n|                     | MongoDB         |\n|                     | SQLite          |\n| **Data Processing** | Apache Spark    |\n|                     | Hadoop          |\n| **Machine Learning**| Scikit-learn    |\n|                     | TensorFlow      |\n|                     | PyTorch         |\n|                     | KNIME           |\n| **Visualization**   | Matplotlib      |\n|                     | Seaborn         |\n|                     | Tableau         |\n|                     | Power BI        |\n| **NLP**             | NLTK            |\n|                     | SpaCy           |\n|                     | Gensim          |\n",
      "metadata": {}
    },
    {
      "cell_type": "markdown",
      "source": "### 7-introarithmetic.png",
      "metadata": {}
    },
    {
      "cell_type": "markdown",
      "source": "##### multiplication = 2 * 6\n##### division = 8 / 2\n##### subtraction = 10 - 4\n##### exponentiation = 3 ** 4\n",
      "metadata": {}
    },
    {
      "cell_type": "markdown",
      "source": "### 8-multiplyandaddinteger",
      "metadata": {}
    },
    {
      "cell_type": "code",
      "source": "number1 = 5\nnumber2 = 3\n\n\nmultiplication = number1 * number2\nsum_result = number1 + number2\n\n# Print the results\nprint(\"Multiplication:\", multiplication)\nprint(\"Sum:\", sum_result)\n",
      "metadata": {
        "trusted": true
      },
      "outputs": [
        {
          "name": "stdout",
          "text": "Multiplication: 15\nSum: 8\n",
          "output_type": "stream"
        }
      ],
      "execution_count": 5
    },
    {
      "cell_type": "markdown",
      "source": "### 9-hourstominutes",
      "metadata": {}
    },
    {
      "cell_type": "code",
      "source": "\nminutes = 120\n\n\nhours = minutes / 60\n\nprint(f\"{minutes} minutes is {hours} hours\")\n",
      "metadata": {
        "trusted": true
      },
      "outputs": [
        {
          "name": "stdout",
          "text": "120 minutes is 2.0 hours\n",
          "output_type": "stream"
        }
      ],
      "execution_count": 6
    },
    {
      "cell_type": "markdown",
      "source": "### 10-objectives",
      "metadata": {}
    },
    {
      "cell_type": "code",
      "source": "objectives = [\n  \n    \"Improve data visualization skills\",\n    \"Apply statistical analysis to data\",\n    \"Enhance problem solving skills\",\n    \"Explore deep learning frameworks\",\n]\n\nprint(\"List of Objectives:\")\nfor objective in objectives:\n    print(f\"- {objective}\")",
      "metadata": {
        "trusted": true
      },
      "outputs": [
        {
          "name": "stdout",
          "text": "List of Objectives:\n- Improve data visualization skills\n- Apply statistical analysis to data\n- Enhance problem solving skills\n- Explore deep learning frameworks\n",
          "output_type": "stream"
        }
      ],
      "execution_count": 11
    },
    {
      "cell_type": "markdown",
      "source": "# *Autor",
      "metadata": {}
    },
    {
      "cell_type": "markdown",
      "source": "### Omar Escarraman",
      "metadata": {}
    },
    {
      "cell_type": "code",
      "source": "",
      "metadata": {
        "trusted": true
      },
      "outputs": [],
      "execution_count": null
    }
  ]
}